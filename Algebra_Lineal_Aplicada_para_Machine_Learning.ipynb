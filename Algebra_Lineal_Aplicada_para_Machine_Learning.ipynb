{
  "nbformat": 4,
  "nbformat_minor": 0,
  "metadata": {
    "colab": {
      "provenance": [],
      "authorship_tag": "ABX9TyOwc23ZWuoFl0jSn0xoP6cj",
      "include_colab_link": true
    },
    "kernelspec": {
      "name": "python3",
      "display_name": "Python 3"
    },
    "language_info": {
      "name": "python"
    }
  },
  "cells": [
    {
      "cell_type": "markdown",
      "metadata": {
        "id": "view-in-github",
        "colab_type": "text"
      },
      "source": [
        "<a href=\"https://colab.research.google.com/github/feracor/Curso-de-Algebra-Lineal-Aplicada-para-Machine-Learning/blob/main/Algebra_Lineal_Aplicada_para_Machine_Learning.ipynb\" target=\"_parent\"><img src=\"https://colab.research.google.com/assets/colab-badge.svg\" alt=\"Open In Colab\"/></a>"
      ]
    },
    {
      "cell_type": "markdown",
      "source": [
        "# **2- Podemos y debemos pensar a las matrices como transformaciones lineales**\n"
      ],
      "metadata": {
        "id": "UqdyEti3atHm"
      }
    },
    {
      "cell_type": "code",
      "execution_count": 2,
      "metadata": {
        "id": "JfY3afEPYQKl"
      },
      "outputs": [],
      "source": [
        "%matplotlib inline    \n",
        "import numpy as np\n",
        "import matplotlib as plt"
      ]
    },
    {
      "cell_type": "code",
      "source": [
        "A = np.array([[-1,3],[2,-2]])\n",
        "A"
      ],
      "metadata": {
        "colab": {
          "base_uri": "https://localhost:8080/"
        },
        "id": "oTLnz3TYaBCU",
        "outputId": "a34102e9-0e69-440f-c0c5-c20524f05f87"
      },
      "execution_count": 4,
      "outputs": [
        {
          "output_type": "execute_result",
          "data": {
            "text/plain": [
              "array([[-1,  3],\n",
              "       [ 2, -2]])"
            ]
          },
          "metadata": {},
          "execution_count": 4
        }
      ]
    },
    {
      "cell_type": "code",
      "source": [
        "vector = np.array([[2],[1]])\n",
        "vector"
      ],
      "metadata": {
        "colab": {
          "base_uri": "https://localhost:8080/"
        },
        "id": "toV0Hv_TafnP",
        "outputId": "a6e9a987-e9c4-4516-9df9-0211b70ab387"
      },
      "execution_count": 5,
      "outputs": [
        {
          "output_type": "execute_result",
          "data": {
            "text/plain": [
              "array([[2],\n",
              "       [1]])"
            ]
          },
          "metadata": {},
          "execution_count": 5
        }
      ]
    },
    {
      "cell_type": "code",
      "source": [
        "def graficarVectores(vecs, cols, alpha = 1):\n",
        "  plt.axvline(x = 0, color = 'grey', zorder = 0)\n",
        "  plt.axhline(y = 0, color = 'grey', zorder = 0)\n",
        "\n",
        "  for i in range(len(vecs)):\n",
        "    x =  np.concatenate([[0,0], vecs[i]])\n",
        "    plt.quiver ([x[0]],\n",
        "                [x[0]],\n",
        "                [x[0]],\n",
        "                [x[0]],\n",
        "                angles = 'xy', scale_units = 'xy',\n",
        "                alpha = alpha)"
      ],
      "metadata": {
        "id": "eI9YtcvsarGc"
      },
      "execution_count": 6,
      "outputs": []
    },
    {
      "cell_type": "code",
      "source": [
        "print(vector)\n",
        "print(vector.flatten())"
      ],
      "metadata": {
        "colab": {
          "base_uri": "https://localhost:8080/"
        },
        "id": "36Q5q7ohhgAQ",
        "outputId": "f26b58f3-f7d5-4e66-d61f-075560b885c1"
      },
      "execution_count": 8,
      "outputs": [
        {
          "output_type": "stream",
          "name": "stdout",
          "text": [
            "[[2]\n",
            " [1]]\n",
            "[2 1]\n"
          ]
        }
      ]
    },
    {
      "cell_type": "code",
      "source": [
        "print(A)\n",
        "print(A.flatten())"
      ],
      "metadata": {
        "colab": {
          "base_uri": "https://localhost:8080/"
        },
        "id": "UFGh06ilhy8G",
        "outputId": "de03e9de-64c1-4c6d-e18a-44ff663b5ffd"
      },
      "execution_count": 9,
      "outputs": [
        {
          "output_type": "stream",
          "name": "stdout",
          "text": [
            "[[-1  3]\n",
            " [ 2 -2]]\n",
            "[-1  3  2 -2]\n"
          ]
        }
      ]
    },
    {
      "cell_type": "code",
      "source": [],
      "metadata": {
        "id": "QSAqGwi0h_pD"
      },
      "execution_count": null,
      "outputs": []
    }
  ]
}
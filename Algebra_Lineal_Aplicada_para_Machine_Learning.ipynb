{
  "nbformat": 4,
  "nbformat_minor": 0,
  "metadata": {
    "colab": {
      "provenance": [],
      "authorship_tag": "ABX9TyPtLOYayr6cr67DE7ABCnQF",
      "include_colab_link": true
    },
    "kernelspec": {
      "name": "python3",
      "display_name": "Python 3"
    },
    "language_info": {
      "name": "python"
    }
  },
  "cells": [
    {
      "cell_type": "markdown",
      "metadata": {
        "id": "view-in-github",
        "colab_type": "text"
      },
      "source": [
        "<a href=\"https://colab.research.google.com/github/feracor/Curso-de-Algebra-Lineal-Aplicada-para-Machine-Learning/blob/main/Algebra_Lineal_Aplicada_para_Machine_Learning.ipynb\" target=\"_parent\"><img src=\"https://colab.research.google.com/assets/colab-badge.svg\" alt=\"Open In Colab\"/></a>"
      ]
    },
    {
      "cell_type": "markdown",
      "source": [
        "# **2- Podemos y debemos pensar a las matrices como transformaciones lineales**\n"
      ],
      "metadata": {
        "id": "UqdyEti3atHm"
      }
    },
    {
      "cell_type": "code",
      "execution_count": 22,
      "metadata": {
        "id": "JfY3afEPYQKl"
      },
      "outputs": [],
      "source": [
        "%matplotlib inline    \n",
        "import numpy as np\n",
        "import matplotlib.pyplot as plt"
      ]
    },
    {
      "cell_type": "code",
      "source": [
        "A = np.array([[-1,3],[2,-2]])\n",
        "A"
      ],
      "metadata": {
        "colab": {
          "base_uri": "https://localhost:8080/"
        },
        "id": "oTLnz3TYaBCU",
        "outputId": "23abf000-4db1-4641-d653-0240f5396766"
      },
      "execution_count": 13,
      "outputs": [
        {
          "output_type": "execute_result",
          "data": {
            "text/plain": [
              "array([[-1,  3],\n",
              "       [ 2, -2]])"
            ]
          },
          "metadata": {},
          "execution_count": 13
        }
      ]
    },
    {
      "cell_type": "code",
      "source": [
        "vector = np.array([[2],[1]])\n",
        "vector"
      ],
      "metadata": {
        "colab": {
          "base_uri": "https://localhost:8080/"
        },
        "id": "toV0Hv_TafnP",
        "outputId": "8b6ef16e-9f5d-420e-ddf3-e16142956771"
      },
      "execution_count": 14,
      "outputs": [
        {
          "output_type": "execute_result",
          "data": {
            "text/plain": [
              "array([[2],\n",
              "       [1]])"
            ]
          },
          "metadata": {},
          "execution_count": 14
        }
      ]
    },
    {
      "cell_type": "code",
      "source": [
        "def graficarVectores(vecs, cols, alpha = 1):\n",
        "  plt.axvline(x = 0, color = 'red', zorder = 0)\n",
        "  plt.axhline(y = 0, color = 'grey', zorder = 0)\n",
        "\n",
        "  for i in range(len(vecs)):\n",
        "    x =  np.concatenate([[0,0], vecs[i]])\n",
        "    plt.quiver ([x[0]],\n",
        "                [x[1]],\n",
        "                [x[2]],\n",
        "                [x[3]],\n",
        "                angles = 'xy', scale_units = 'xy',\n",
        "                scale= 1,\n",
        "                color = cols[i],\n",
        "                alpha = alpha\n",
        "                )"
      ],
      "metadata": {
        "id": "eI9YtcvsarGc"
      },
      "execution_count": 39,
      "outputs": []
    },
    {
      "cell_type": "code",
      "source": [
        "print(vector)\n",
        "print(vector.flatten())"
      ],
      "metadata": {
        "colab": {
          "base_uri": "https://localhost:8080/"
        },
        "id": "36Q5q7ohhgAQ",
        "outputId": "ffd4e9c0-144f-49b5-f5e4-6ab5220f7068"
      },
      "execution_count": 40,
      "outputs": [
        {
          "output_type": "stream",
          "name": "stdout",
          "text": [
            "[[2]\n",
            " [1]]\n",
            "[2 1]\n"
          ]
        }
      ]
    },
    {
      "cell_type": "code",
      "source": [
        "print(A)\n",
        "print(A.flatten())"
      ],
      "metadata": {
        "colab": {
          "base_uri": "https://localhost:8080/"
        },
        "id": "UFGh06ilhy8G",
        "outputId": "91c4ad6d-2a35-4818-8125-b4c93e67c6e4"
      },
      "execution_count": 41,
      "outputs": [
        {
          "output_type": "stream",
          "name": "stdout",
          "text": [
            "[[-1  3]\n",
            " [ 2 -2]]\n",
            "[-1  3  2 -2]\n"
          ]
        }
      ]
    },
    {
      "cell_type": "code",
      "source": [
        "graficarVectores([vector.flatten()], cols = 'blue')\n",
        "\n",
        "plt.xlim(-0.5,3)\n",
        "plt.ylim(-0.5,2)"
      ],
      "metadata": {
        "colab": {
          "base_uri": "https://localhost:8080/",
          "height": 286
        },
        "id": "QSAqGwi0h_pD",
        "outputId": "1943aa08-07f7-4eb2-cf48-ddc185206a6b"
      },
      "execution_count": 42,
      "outputs": [
        {
          "output_type": "execute_result",
          "data": {
            "text/plain": [
              "(-0.5, 2.0)"
            ]
          },
          "metadata": {},
          "execution_count": 42
        },
        {
          "output_type": "display_data",
          "data": {
            "text/plain": [
              "<Figure size 432x288 with 1 Axes>"
            ],
            "image/png": "[encoded data removed]"
          },
          "metadata": {
            "needs_background": "light"
          }
        }
      ]
    },
    {
      "cell_type": "code",
      "source": [
        "vector_transformado = A.dot(vector)\n",
        "vector_transformado"
      ],
      "metadata": {
        "colab": {
          "base_uri": "https://localhost:8080/"
        },
        "id": "JliFOF8MihOX",
        "outputId": "16f453bd-59ba-4325-e466-b5e00bfb0fbc"
      },
      "execution_count": 43,
      "outputs": [
        {
          "output_type": "execute_result",
          "data": {
            "text/plain": [
              "array([[1],\n",
              "       [2]])"
            ]
          },
          "metadata": {},
          "execution_count": 43
        }
      ]
    },
    {
      "cell_type": "code",
      "source": [
        "graficarVectores([vector.flatten(),vector_transformado.flatten()], \n",
        "                 cols = ['blue', 'orange'])\n",
        "plt.xlim(-0.5,3)\n",
        "plt.ylim(-0.5,2.5)"
      ],
      "metadata": {
        "colab": {
          "base_uri": "https://localhost:8080/",
          "height": 286
        },
        "id": "pCt288Zer5Yf",
        "outputId": "43fee22a-d8a8-435d-94f9-ee981eaeb4b7"
      },
      "execution_count": 48,
      "outputs": [
        {
          "output_type": "execute_result",
          "data": {
            "text/plain": [
              "(-0.5, 2.5)"
            ]
          },
          "metadata": {},
          "execution_count": 48
        },
        {
          "output_type": "display_data",
          "data": {
            "text/plain": [
              "<Figure size 432x288 with 1 Axes>"
            ],
            "image/png": "[encoded data removed]"
          },
          "metadata": {
            "needs_background": "light"
          }
        }
      ]
    },
    {
      "cell_type": "code",
      "source": [],
      "metadata": {
        "id": "L_lUpr9RsIHC"
      },
      "execution_count": null,
      "outputs": []
    }
  ]
}
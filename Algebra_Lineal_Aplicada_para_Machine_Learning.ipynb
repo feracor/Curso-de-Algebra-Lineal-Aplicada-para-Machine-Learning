{
  "nbformat": 4,
  "nbformat_minor": 0,
  "metadata": {
    "colab": {
      "provenance": [],
      "authorship_tag": "ABX9TyOrllsxAyobb7wkFFg5Hvsi",
      "include_colab_link": true
    },
    "kernelspec": {
      "name": "python3",
      "display_name": "Python 3"
    },
    "language_info": {
      "name": "python"
    }
  },
  "cells": [
    {
      "cell_type": "markdown",
      "metadata": {
        "id": "view-in-github",
        "colab_type": "text"
      },
      "source": [
        "<a href=\"https://colab.research.google.com/github/feracor/Curso-de-Algebra-Lineal-Aplicada-para-Machine-Learning/blob/main/Algebra_Lineal_Aplicada_para_Machine_Learning.ipynb\" target=\"_parent\"><img src=\"https://colab.research.google.com/assets/colab-badge.svg\" alt=\"Open In Colab\"/></a>"
      ]
    },
    {
      "cell_type": "markdown",
      "source": [
        "# Curso de Álgebra Lineal Aplicada para Machine Learning - 2022\n"
      ],
      "metadata": {
        "id": "6TKtx9PGCqZi"
      }
    },
    {
      "cell_type": "markdown",
      "source": [
        "# **2- Podemos y debemos pensar a las matrices como transformaciones lineales**\n"
      ],
      "metadata": {
        "id": "UqdyEti3atHm"
      }
    },
    {
      "cell_type": "code",
      "execution_count": null,
      "metadata": {
        "id": "JfY3afEPYQKl"
      },
      "outputs": [],
      "source": [
        "%matplotlib inline    \n",
        "import numpy as np\n",
        "import matplotlib.pyplot as plt"
      ]
    },
    {
      "cell_type": "code",
      "source": [
        "A = np.array([[-1,3],[2,-2]])\n",
        "A"
      ],
      "metadata": {
        "colab": {
          "base_uri": "https://localhost:8080/"
        },
        "id": "oTLnz3TYaBCU",
        "outputId": "d8fbba0a-ccca-4b96-9a7e-d5a1fad8976e"
      },
      "execution_count": null,
      "outputs": [
        {
          "output_type": "execute_result",
          "data": {
            "text/plain": [
              "array([[-1,  3],\n",
              "       [ 2, -2]])"
            ]
          },
          "metadata": {},
          "execution_count": 2
        }
      ]
    },
    {
      "cell_type": "code",
      "source": [
        "vector = np.array([[2],[1]])\n",
        "vector"
      ],
      "metadata": {
        "colab": {
          "base_uri": "https://localhost:8080/"
        },
        "id": "toV0Hv_TafnP",
        "outputId": "96ed0680-90d1-49ef-d162-c5cc769b5123"
      },
      "execution_count": null,
      "outputs": [
        {
          "output_type": "execute_result",
          "data": {
            "text/plain": [
              "array([[2],\n",
              "       [1]])"
            ]
          },
          "metadata": {},
          "execution_count": 3
        }
      ]
    },
    {
      "cell_type": "code",
      "source": [
        "#funcion para graficar vectores\n",
        "def graficarVectores(vecs, cols, alpha = 1):\n",
        "  plt.axvline(x = 0, color = 'red', zorder = 0)\n",
        "  plt.axhline(y = 0, color = 'grey', zorder = 0)\n",
        "\n",
        "  for i in range(len(vecs)):\n",
        "    x =  np.concatenate([[0,0], vecs[i]])\n",
        "    plt.quiver ([x[0]],\n",
        "                [x[1]],\n",
        "                [x[2]],\n",
        "                [x[3]],\n",
        "                angles = 'xy', scale_units = 'xy',\n",
        "                scale= 1,\n",
        "                color = cols[i],\n",
        "                alpha = alpha\n",
        "                )"
      ],
      "metadata": {
        "id": "eI9YtcvsarGc"
      },
      "execution_count": null,
      "outputs": []
    },
    {
      "cell_type": "code",
      "source": [
        "print(vector)\n",
        "print(vector.flatten())"
      ],
      "metadata": {
        "colab": {
          "base_uri": "https://localhost:8080/"
        },
        "id": "36Q5q7ohhgAQ",
        "outputId": "ad3627e4-d18e-4e07-fd9f-54bc65964564"
      },
      "execution_count": null,
      "outputs": [
        {
          "output_type": "stream",
          "name": "stdout",
          "text": [
            "[[2]\n",
            " [1]]\n",
            "[2 1]\n"
          ]
        }
      ]
    },
    {
      "cell_type": "code",
      "source": [
        "print(A)\n",
        "print(A.flatten())"
      ],
      "metadata": {
        "colab": {
          "base_uri": "https://localhost:8080/"
        },
        "id": "UFGh06ilhy8G",
        "outputId": "53f6f4af-08c0-47e0-c490-a3d0351ac603"
      },
      "execution_count": null,
      "outputs": [
        {
          "output_type": "stream",
          "name": "stdout",
          "text": [
            "[[-1  3]\n",
            " [ 2 -2]]\n",
            "[-1  3  2 -2]\n"
          ]
        }
      ]
    },
    {
      "cell_type": "code",
      "source": [
        "graficarVectores([vector.flatten()], cols = 'blue')\n",
        "\n",
        "plt.xlim(-0.5,3)\n",
        "plt.ylim(-0.5,2)"
      ],
      "metadata": {
        "colab": {
          "base_uri": "https://localhost:8080/",
          "height": 286
        },
        "id": "QSAqGwi0h_pD",
        "outputId": "000b264b-996b-4d4f-ae7e-aac823d1d0a3"
      },
      "execution_count": null,
      "outputs": [
        {
          "output_type": "execute_result",
          "data": {
            "text/plain": [
              "(-0.5, 2.0)"
            ]
          },
          "metadata": {},
          "execution_count": 7
        },
        {
          "output_type": "display_data",
          "data": {
            "text/plain": [
              "<Figure size 432x288 with 1 Axes>"
            ],
            "image/png": "[encoded data removed]"
          },
          "metadata": {
            "needs_background": "light"
          }
        }
      ]
    },
    {
      "cell_type": "code",
      "source": [
        "vector_transformado = A.dot(vector)\n",
        "vector_transformado"
      ],
      "metadata": {
        "colab": {
          "base_uri": "https://localhost:8080/"
        },
        "id": "JliFOF8MihOX",
        "outputId": "72823860-db64-46a8-e100-83b8f4563136"
      },
      "execution_count": null,
      "outputs": [
        {
          "output_type": "execute_result",
          "data": {
            "text/plain": [
              "array([[1],\n",
              "       [2]])"
            ]
          },
          "metadata": {},
          "execution_count": 8
        }
      ]
    },
    {
      "cell_type": "code",
      "source": [
        "graficarVectores([vector.flatten(),vector_transformado.flatten()], \n",
        "                 cols = ['blue', 'orange'])\n",
        "plt.xlim(-0.5,3)\n",
        "plt.ylim(-0.5,2.5)"
      ],
      "metadata": {
        "colab": {
          "base_uri": "https://localhost:8080/",
          "height": 286
        },
        "id": "pCt288Zer5Yf",
        "outputId": "c1f065c4-6796-4c42-bfa6-bbde2c9bff4f"
      },
      "execution_count": null,
      "outputs": [
        {
          "output_type": "execute_result",
          "data": {
            "text/plain": [
              "(-0.5, 2.5)"
            ]
          },
          "metadata": {},
          "execution_count": 9
        },
        {
          "output_type": "display_data",
          "data": {
            "text/plain": [
              "<Figure size 432x288 with 1 Axes>"
            ],
            "image/png": "[encoded data removed]"
          },
          "metadata": {
            "needs_background": "light"
          }
        }
      ]
    },
    {
      "cell_type": "code",
      "source": [
        "print(np.linalg.det(A)) # Calcular determinante"
      ],
      "metadata": {
        "colab": {
          "base_uri": "https://localhost:8080/"
        },
        "id": "L_lUpr9RsIHC",
        "outputId": "ee47a33a-c6f7-41e9-e24d-33aa5a7b4fff"
      },
      "execution_count": null,
      "outputs": [
        {
          "output_type": "stream",
          "name": "stdout",
          "text": [
            "-4.0\n"
          ]
        }
      ]
    },
    {
      "cell_type": "code",
      "source": [
        "print(np.linalg.norm(vector)) # Verificar norma del vesctor\n",
        "print(np.linalg.norm(vector_transformado)) # Verificar norma del vesctor"
      ],
      "metadata": {
        "colab": {
          "base_uri": "https://localhost:8080/"
        },
        "id": "glr3XFpxstzN",
        "outputId": "883dd147-db4b-49e0-855e-fb714d8948e1"
      },
      "execution_count": null,
      "outputs": [
        {
          "output_type": "stream",
          "name": "stdout",
          "text": [
            "2.23606797749979\n",
            "2.23606797749979\n"
          ]
        }
      ]
    },
    {
      "cell_type": "markdown",
      "source": [
        "# **3 - Autovalores y Autovectores**\n"
      ],
      "metadata": {
        "id": "DOAO7DPJx6Ix"
      }
    },
    {
      "cell_type": "code",
      "source": [
        "#Definir colores\n",
        "orange_light = '#FF9A13'\n",
        "blue_light = '#1190FF'"
      ],
      "metadata": {
        "id": "5FP9ihROxjhI"
      },
      "execution_count": null,
      "outputs": []
    },
    {
      "cell_type": "code",
      "source": [
        "#definir matriz\n",
        "X = np.array([[3,2],[4,1]])\n",
        "print(X)"
      ],
      "metadata": {
        "colab": {
          "base_uri": "https://localhost:8080/"
        },
        "id": "FmGCn4w13Kzx",
        "outputId": "43a237d6-7d4c-4179-8b0b-7208b9aa5b2b"
      },
      "execution_count": null,
      "outputs": [
        {
          "output_type": "stream",
          "name": "stdout",
          "text": [
            "[[3 2]\n",
            " [4 1]]\n"
          ]
        }
      ]
    },
    {
      "cell_type": "code",
      "source": [
        "# Definir vector\n",
        "v= np.array([[1],[1]])\n",
        "v"
      ],
      "metadata": {
        "colab": {
          "base_uri": "https://localhost:8080/"
        },
        "id": "jsCrmaEO5sx4",
        "outputId": "f7bd2976-67ed-4583-f896-972ea929d9a2"
      },
      "execution_count": null,
      "outputs": [
        {
          "output_type": "execute_result",
          "data": {
            "text/plain": [
              "array([[1],\n",
              "       [1]])"
            ]
          },
          "metadata": {},
          "execution_count": 14
        }
      ]
    },
    {
      "cell_type": "code",
      "source": [
        "#Vector trandormado\n",
        "u = X.dot(v) #Producto interno\n",
        "u"
      ],
      "metadata": {
        "colab": {
          "base_uri": "https://localhost:8080/"
        },
        "id": "r--Y4LUN5-Ti",
        "outputId": "e2b91e94-fb89-4554-d6e0-10653b6948ca"
      },
      "execution_count": null,
      "outputs": [
        {
          "output_type": "execute_result",
          "data": {
            "text/plain": [
              "array([[5],\n",
              "       [5]])"
            ]
          },
          "metadata": {},
          "execution_count": 15
        }
      ]
    },
    {
      "cell_type": "code",
      "source": [
        "graficarVectores([u.flatten(), v.flatten()], cols = [orange_light, blue_light])\n",
        "\n",
        "plt.xlim(-1,6)\n",
        "plt.ylim(-1,6)\n"
      ],
      "metadata": {
        "colab": {
          "base_uri": "https://localhost:8080/",
          "height": 286
        },
        "id": "nYeSmh1Q_XVz",
        "outputId": "8a4d57bb-9354-4f53-9502-13963a82adc0"
      },
      "execution_count": null,
      "outputs": [
        {
          "output_type": "execute_result",
          "data": {
            "text/plain": [
              "(-1.0, 6.0)"
            ]
          },
          "metadata": {},
          "execution_count": 16
        },
        {
          "output_type": "display_data",
          "data": {
            "text/plain": [
              "<Figure size 432x288 with 1 Axes>"
            ],
            "image/png": "[encoded data removed]"
          },
          "metadata": {
            "needs_background": "light"
          }
        }
      ]
    },
    {
      "cell_type": "code",
      "source": [
        "# Un auto vector es aquel que cuando se le aplica una matriz, devuelve un vector en la misma direccion pero con su magnitud amplificada\n",
        "\n",
        "lamda_1 = 5\n",
        "lamda_1 * v"
      ],
      "metadata": {
        "colab": {
          "base_uri": "https://localhost:8080/"
        },
        "id": "qlYGLMF__tVZ",
        "outputId": "c99090a0-2a18-4d3f-ec82-98cbd95322b1"
      },
      "execution_count": null,
      "outputs": [
        {
          "output_type": "execute_result",
          "data": {
            "text/plain": [
              "array([[5],\n",
              "       [5]])"
            ]
          },
          "metadata": {},
          "execution_count": 17
        }
      ]
    },
    {
      "cell_type": "code",
      "source": [
        "s = np.array ([[-1],[2]])\n",
        "s"
      ],
      "metadata": {
        "colab": {
          "base_uri": "https://localhost:8080/"
        },
        "id": "L9nvOEDXALHu",
        "outputId": "1af824e3-fc96-42f7-ac82-ce9966c50c6f"
      },
      "execution_count": null,
      "outputs": [
        {
          "output_type": "execute_result",
          "data": {
            "text/plain": [
              "array([[-1],\n",
              "       [ 2]])"
            ]
          },
          "metadata": {},
          "execution_count": 18
        }
      ]
    },
    {
      "cell_type": "code",
      "source": [
        "t = X.dot(s)\n",
        "t"
      ],
      "metadata": {
        "colab": {
          "base_uri": "https://localhost:8080/"
        },
        "id": "XrEtXmKJAom2",
        "outputId": "b54f4f99-838d-45ed-8b50-ae038f5fca19"
      },
      "execution_count": null,
      "outputs": [
        {
          "output_type": "execute_result",
          "data": {
            "text/plain": [
              "array([[ 1],\n",
              "       [-2]])"
            ]
          },
          "metadata": {},
          "execution_count": 19
        }
      ]
    },
    {
      "cell_type": "code",
      "source": [
        "graficarVectores([t.flatten(), s.flatten()], cols = [orange_light, blue_light])\n",
        "\n",
        "plt.xlim(-3,3)\n",
        "plt.ylim(-3,3)\n"
      ],
      "metadata": {
        "colab": {
          "base_uri": "https://localhost:8080/",
          "height": 286
        },
        "id": "ggbmuONJCmda",
        "outputId": "3fb1e396-7927-46f2-e8ce-ff968801f61b"
      },
      "execution_count": null,
      "outputs": [
        {
          "output_type": "execute_result",
          "data": {
            "text/plain": [
              "(-3.0, 3.0)"
            ]
          },
          "metadata": {},
          "execution_count": 20
        },
        {
          "output_type": "display_data",
          "data": {
            "text/plain": [
              "<Figure size 432x288 with 1 Axes>"
            ],
            "image/png": "[encoded data removed]"
          },
          "metadata": {
            "needs_background": "light"
          }
        }
      ]
    },
    {
      "cell_type": "markdown",
      "source": [
        "# 4 - Cómo calcular los autovalores y autovectores"
      ],
      "metadata": {
        "id": "mxaA2I4XCQzf"
      }
    },
    {
      "cell_type": "code",
      "source": [
        "#Definir una matriz para hllar autovalores y auto vectores\n",
        "X = np.array ([[3,2],[4,1]])\n",
        "X"
      ],
      "metadata": {
        "colab": {
          "base_uri": "https://localhost:8080/"
        },
        "id": "68ZLzOjwBuKk",
        "outputId": "d9b4dabf-62ae-4831-e110-d5e8c8e08442"
      },
      "execution_count": null,
      "outputs": [
        {
          "output_type": "execute_result",
          "data": {
            "text/plain": [
              "array([[3, 2],\n",
              "       [4, 1]])"
            ]
          },
          "metadata": {},
          "execution_count": 21
        }
      ]
    },
    {
      "cell_type": "code",
      "source": [
        "np.linalg.eig(X)"
      ],
      "metadata": {
        "colab": {
          "base_uri": "https://localhost:8080/"
        },
        "id": "hlfkVYQdDUVo",
        "outputId": "3aa9c669-5cc0-44ee-a778-73591a92bc35"
      },
      "execution_count": null,
      "outputs": [
        {
          "output_type": "execute_result",
          "data": {
            "text/plain": [
              "(array([ 5., -1.]), array([[ 0.70710678, -0.4472136 ],\n",
              "        [ 0.70710678,  0.89442719]]))"
            ]
          },
          "metadata": {},
          "execution_count": 22
        }
      ]
    },
    {
      "cell_type": "code",
      "source": [
        "autovalores, autovectores = np.linalg.eig(X)\n",
        "autovalores"
      ],
      "metadata": {
        "colab": {
          "base_uri": "https://localhost:8080/"
        },
        "id": "W6u2vHGODsCM",
        "outputId": "b9da1faf-7760-4f52-c03f-531b89b64a76"
      },
      "execution_count": null,
      "outputs": [
        {
          "output_type": "execute_result",
          "data": {
            "text/plain": [
              "array([ 5., -1.])"
            ]
          },
          "metadata": {},
          "execution_count": 23
        }
      ]
    },
    {
      "cell_type": "code",
      "source": [
        "autovectores[:,0]"
      ],
      "metadata": {
        "colab": {
          "base_uri": "https://localhost:8080/"
        },
        "id": "ZlVEGRX1EFe_",
        "outputId": "65ba2a97-9f27-46fa-c309-047cd9850fdc"
      },
      "execution_count": null,
      "outputs": [
        {
          "output_type": "execute_result",
          "data": {
            "text/plain": [
              "array([0.70710678, 0.70710678])"
            ]
          },
          "metadata": {},
          "execution_count": 36
        }
      ]
    },
    {
      "cell_type": "code",
      "source": [
        "autovectores[:,1]"
      ],
      "metadata": {
        "colab": {
          "base_uri": "https://localhost:8080/"
        },
        "id": "LSWOCPVwEWrj",
        "outputId": "8fe1ef49-383f-40f9-cde9-5130ebf51ebc"
      },
      "execution_count": null,
      "outputs": [
        {
          "output_type": "execute_result",
          "data": {
            "text/plain": [
              "array([-0.4472136 ,  0.89442719])"
            ]
          },
          "metadata": {},
          "execution_count": 25
        }
      ]
    },
    {
      "cell_type": "code",
      "source": [
        "v = np.array([[-1],[2]])\n",
        "Xv = X.dot(v)\n",
        "v_np = autovectores[:,1]"
      ],
      "metadata": {
        "id": "ThtnPfJvEeOD"
      },
      "execution_count": null,
      "outputs": []
    },
    {
      "cell_type": "code",
      "source": [
        "graficarVectores([Xv.flatten(), v.flatten(), v_np], cols = ['green', 'orange', 'blue'])\n",
        "\n",
        "plt.ylim(-4,2)\n",
        "plt.xlim(-7,3)\n"
      ],
      "metadata": {
        "colab": {
          "base_uri": "https://localhost:8080/",
          "height": 286
        },
        "id": "bEjknN2oErfW",
        "outputId": "19ac30c4-16e2-47e4-e98e-5e551229beba"
      },
      "execution_count": null,
      "outputs": [
        {
          "output_type": "execute_result",
          "data": {
            "text/plain": [
              "(-7.0, 3.0)"
            ]
          },
          "metadata": {},
          "execution_count": 27
        },
        {
          "output_type": "display_data",
          "data": {
            "text/plain": [
              "<Figure size 432x288 with 1 Axes>"
            ],
            "image/png": "[encoded data removed]"
          },
          "metadata": {
            "needs_background": "light"
          }
        }
      ]
    },
    {
      "cell_type": "markdown",
      "source": [
        "# 5 - Descomposición de matrices"
      ],
      "metadata": {
        "id": "9Q9fOTI2IJ-T"
      }
    },
    {
      "cell_type": "code",
      "source": [
        "A = np.array([[3,2],[4,1]])\n",
        "A"
      ],
      "metadata": {
        "id": "B4tv6NNrFeOU",
        "colab": {
          "base_uri": "https://localhost:8080/"
        },
        "outputId": "b574fa30-6023-42e6-eb14-34c15e795ae3"
      },
      "execution_count": null,
      "outputs": [
        {
          "output_type": "execute_result",
          "data": {
            "text/plain": [
              "array([[3, 2],\n",
              "       [4, 1]])"
            ]
          },
          "metadata": {},
          "execution_count": 31
        }
      ]
    },
    {
      "cell_type": "code",
      "source": [
        "autovalores, autovectores = np.linalg.eig(A)"
      ],
      "metadata": {
        "id": "ME1IflKvh7gG"
      },
      "execution_count": null,
      "outputs": []
    },
    {
      "cell_type": "code",
      "source": [
        "print(autovalores)\n",
        "print(autovectores)"
      ],
      "metadata": {
        "colab": {
          "base_uri": "https://localhost:8080/"
        },
        "id": "HoVJ-TStjY7X",
        "outputId": "c8d6da11-7424-44b3-c3b0-9996953ab393"
      },
      "execution_count": null,
      "outputs": [
        {
          "output_type": "stream",
          "name": "stdout",
          "text": [
            "[ 5. -1.]\n",
            "[[ 0.70710678 -0.4472136 ]\n",
            " [ 0.70710678  0.89442719]]\n"
          ]
        }
      ]
    },
    {
      "cell_type": "code",
      "source": [
        "A_cal = autovectores.dot(np.diag(autovalores)).dot(np.linalg.inv(autovectores))\n",
        "A_cal"
      ],
      "metadata": {
        "colab": {
          "base_uri": "https://localhost:8080/"
        },
        "id": "f_LhBR8tkJ2y",
        "outputId": "07eecd92-b9b7-41ff-abb6-f4d988661c09"
      },
      "execution_count": null,
      "outputs": [
        {
          "output_type": "execute_result",
          "data": {
            "text/plain": [
              "array([[3., 2.],\n",
              "       [4., 1.]])"
            ]
          },
          "metadata": {},
          "execution_count": 38
        }
      ]
    },
    {
      "cell_type": "code",
      "source": [
        "A  = np.array([[3,2],[2,3]])\n",
        "A"
      ],
      "metadata": {
        "colab": {
          "base_uri": "https://localhost:8080/"
        },
        "id": "uDkzqA8Bknxm",
        "outputId": "a8db98d0-7091-49f2-b7d5-e7629f081818"
      },
      "execution_count": null,
      "outputs": [
        {
          "output_type": "execute_result",
          "data": {
            "text/plain": [
              "array([[3, 2],\n",
              "       [2, 3]])"
            ]
          },
          "metadata": {},
          "execution_count": 40
        }
      ]
    },
    {
      "cell_type": "code",
      "source": [
        "# Comprobar la que la matriz coincida con su transpuesta\n",
        "print(A == A.T)"
      ],
      "metadata": {
        "id": "pIVavoOik46r",
        "colab": {
          "base_uri": "https://localhost:8080/"
        },
        "outputId": "67cd7464-011f-459d-f89b-adbfba2a2f47"
      },
      "execution_count": 46,
      "outputs": [
        {
          "output_type": "stream",
          "name": "stdout",
          "text": [
            "[[ True  True]\n",
            " [ True  True]]\n"
          ]
        }
      ]
    },
    {
      "cell_type": "code",
      "source": [
        "autovalores, autovectores = np.linalg.eig(A)\n",
        "print(autovalores)\n",
        "print(autovectores)"
      ],
      "metadata": {
        "colab": {
          "base_uri": "https://localhost:8080/"
        },
        "id": "-cSEcmt1ni_z",
        "outputId": "2f897f53-0597-4cd6-9398-dc682888f5da"
      },
      "execution_count": 48,
      "outputs": [
        {
          "output_type": "stream",
          "name": "stdout",
          "text": [
            "[5. 1.]\n",
            "[[ 0.70710678 -0.70710678]\n",
            " [ 0.70710678  0.70710678]]\n"
          ]
        }
      ]
    },
    {
      "cell_type": "code",
      "source": [
        "# Se puede rescibir una matriz simetrica\n",
        "# calcular un transpouesta es mas sencillo y economico que calcular una inversa, aplica para matrices simetricas\n",
        "\n",
        "A_cal = autovectores.dot(np.diag(autovalores)).dot(autovectores.T)\n",
        "A_cal"
      ],
      "metadata": {
        "colab": {
          "base_uri": "https://localhost:8080/"
        },
        "id": "tOkfvbz2n5jr",
        "outputId": "850ec956-d953-40ab-8eb1-ddcb9808e3a2"
      },
      "execution_count": 54,
      "outputs": [
        {
          "output_type": "execute_result",
          "data": {
            "text/plain": [
              "array([[3., 2.],\n",
              "       [2., 3.]])"
            ]
          },
          "metadata": {},
          "execution_count": 54
        }
      ]
    },
    {
      "cell_type": "markdown",
      "source": [
        "# 6 - ¿Cómo descompongo una matriz no cuadrada (SVD)?\n"
      ],
      "metadata": {
        "id": "0MZkL8KP9QR3"
      }
    },
    {
      "cell_type": "code",
      "source": [
        "A = np.array([[1,2,3],[3,4,5]])\n",
        "A"
      ],
      "metadata": {
        "colab": {
          "base_uri": "https://localhost:8080/"
        },
        "id": "Ez-kDyKE9P1U",
        "outputId": "2685123d-9675-4d96-cf62-f798ac12392c"
      },
      "execution_count": 55,
      "outputs": [
        {
          "output_type": "execute_result",
          "data": {
            "text/plain": [
              "array([[1, 2, 3],\n",
              "       [3, 4, 5]])"
            ]
          },
          "metadata": {},
          "execution_count": 55
        }
      ]
    },
    {
      "cell_type": "code",
      "source": [
        "U, D, V = np.linalg.svd(A)"
      ],
      "metadata": {
        "id": "dXKZVLkz6Dny"
      },
      "execution_count": 58,
      "outputs": []
    },
    {
      "cell_type": "code",
      "source": [
        "print(U) # matriz de 2x2\n",
        "print('---')\n",
        "print(np.diag(D)) # se debe escrivir los valores que se solicitna con matriz y valores en la diagonal y el resto son ceros\n",
        "print('---')\n",
        "print(V)  # Matriz de 3x3\n"
      ],
      "metadata": {
        "colab": {
          "base_uri": "https://localhost:8080/"
        },
        "id": "Rg3cVzpP97RQ",
        "outputId": "f3a3f4bc-94e9-4fd3-c600-76b50b867b91"
      },
      "execution_count": 62,
      "outputs": [
        {
          "output_type": "stream",
          "name": "stdout",
          "text": [
            "[[-0.46410668 -0.88577931]\n",
            " [-0.88577931  0.46410668]]\n",
            "---\n",
            "[[7.97638869 0.        ]\n",
            " [0.         0.61418515]]\n",
            "---\n",
            "[[-0.39133557 -0.5605708  -0.72980603]\n",
            " [ 0.8247362   0.13817999 -0.54837623]\n",
            " [ 0.40824829 -0.81649658  0.40824829]]\n"
          ]
        }
      ]
    },
    {
      "cell_type": "code",
      "source": [
        "# A = U * D * V"
      ],
      "metadata": {
        "id": "3GYZCPlt-XtH"
      },
      "execution_count": 61,
      "outputs": []
    },
    {
      "cell_type": "markdown",
      "source": [
        "# 7 - Las tres transformaciones"
      ],
      "metadata": {
        "id": "yzJP6cBIJmiS"
      }
    },
    {
      "cell_type": "code",
      "source": [],
      "metadata": {
        "id": "xhB3MY6H-2Ee"
      },
      "execution_count": null,
      "outputs": []
    }
  ]
}